{
  "cells": [
    {
      "cell_type": "code",
      "source": [
        "# https://stackoverflow.com/questions/28870504/converting-tiff-to-jpeg-in-python\n",
        "import os\n",
        "from PIL import Image\n",
        "\n",
        "yourpath = os.getcwd()\n",
        "for root, dirs, files in os.walk(yourpath, topdown=False):\n",
        "    for name in files:\n",
        "        print(os.path.join(root, name))\n",
        "        if os.path.splitext(os.path.join(root, name))[1].lower() == \".tiff\":\n",
        "            if os.path.isfile(os.path.splitext(os.path.join(root, name))[0] + \".jpeg\"):\n",
        "                print (\"A jpeg file already exists for %s\" % name)\n",
        "            # If a jpeg is *NOT* present, create one from the tiff.\n",
        "            else:\n",
        "                outfile = os.path.splitext(os.path.join(root, name))[0] + \".jpeg\"\n",
        "                try:\n",
        "                    im = Image.open(os.path.join(root, name))\n",
        "                    im=im.convert(\"RGB\")\n",
        "                    print (\"Generating jpeg for %s\" % name)\n",
        "                    im.thumbnail(im.size)\n",
        "                    im.save(outfile, format=\"JPEG\", quality=95)\n",
        "                except Exception as e:\n",
        "                    print (e)"
      ],
      "outputs": [
        {
          "output_type": "stream",
          "name": "stdout",
          "text": "/mnt/batch/tasks/shared/LS_root/mounts/clusters/safdarzaman1/code/Users/safdarzaman/transformedjpgimages/.ipynb_aml_checkpoints/tiffconversion-checkpoint2024-0-22-14-15-30Z.ipynb\n/mnt/batch/tasks/shared/LS_root/mounts/clusters/safdarzaman1/code/Users/safdarzaman/transformedjpgimages/.ipynb_aml_checkpoints/tiffconversion-checkpoint2024-0-22-15-16-55Z.ipynb\n/mnt/batch/tasks/shared/LS_root/mounts/clusters/safdarzaman1/code/Users/safdarzaman/transformedjpgimages/.ipynb_aml_checkpoints/tiffconversion-checkpoint2024-0-23-14-38-13Z.ipynb\n/mnt/batch/tasks/shared/LS_root/mounts/clusters/safdarzaman1/code/Users/safdarzaman/transformedjpgimages/.ipynb_aml_checkpoints/tiffconversion-checkpoint2024-0-23-15-39-40Z.ipynb\n/mnt/batch/tasks/shared/LS_root/mounts/clusters/safdarzaman1/code/Users/safdarzaman/transformedjpgimages/.amlignore\n/mnt/batch/tasks/shared/LS_root/mounts/clusters/safdarzaman1/code/Users/safdarzaman/transformedjpgimages/.amlignore.amltmp\n/mnt/batch/tasks/shared/LS_root/mounts/clusters/safdarzaman1/code/Users/safdarzaman/transformedjpgimages/invoice1_nostrike.tiff\nGenerating jpeg for invoice1_nostrike.tiff\n/mnt/batch/tasks/shared/LS_root/mounts/clusters/safdarzaman1/code/Users/safdarzaman/transformedjpgimages/invoice2.tiff\nGenerating jpeg for invoice2.tiff\n/mnt/batch/tasks/shared/LS_root/mounts/clusters/safdarzaman1/code/Users/safdarzaman/transformedjpgimages/invoice4.tiff\nGenerating jpeg for invoice4.tiff\n/mnt/batch/tasks/shared/LS_root/mounts/clusters/safdarzaman1/code/Users/safdarzaman/transformedjpgimages/invoice5.tiff\nGenerating jpeg for invoice5.tiff\n/mnt/batch/tasks/shared/LS_root/mounts/clusters/safdarzaman1/code/Users/safdarzaman/transformedjpgimages/invoice5_nostrikethorgh.tiff\nGenerating jpeg for invoice5_nostrikethorgh.tiff\n/mnt/batch/tasks/shared/LS_root/mounts/clusters/safdarzaman1/code/Users/safdarzaman/transformedjpgimages/invoice6_nostrikethrough.tiff\nGenerating jpeg for invoice6_nostrikethrough.tiff\n/mnt/batch/tasks/shared/LS_root/mounts/clusters/safdarzaman1/code/Users/safdarzaman/transformedjpgimages/invoice8.tiff\nGenerating jpeg for invoice8.tiff\n/mnt/batch/tasks/shared/LS_root/mounts/clusters/safdarzaman1/code/Users/safdarzaman/transformedjpgimages/invoice8_nostr9kethrough.tiff\nGenerating jpeg for invoice8_nostr9kethrough.tiff\n/mnt/batch/tasks/shared/LS_root/mounts/clusters/safdarzaman1/code/Users/safdarzaman/transformedjpgimages/invoice9.tiff\nGenerating jpeg for invoice9.tiff\n/mnt/batch/tasks/shared/LS_root/mounts/clusters/safdarzaman1/code/Users/safdarzaman/transformedjpgimages/invoice9_nostrikethorugh.tiff\nGenerating jpeg for invoice9_nostrikethorugh.tiff\n/mnt/batch/tasks/shared/LS_root/mounts/clusters/safdarzaman1/code/Users/safdarzaman/transformedjpgimages/tiffconversion.ipynb\n/mnt/batch/tasks/shared/LS_root/mounts/clusters/safdarzaman1/code/Users/safdarzaman/transformedjpgimages/tiffconversion.ipynb.amltmp\n"
        }
      ],
      "execution_count": 5,
      "metadata": {
        "gather": {
          "logged": 1706026327771
        }
      }
    },
    {
      "cell_type": "code",
      "source": [],
      "outputs": [],
      "execution_count": null,
      "metadata": {
        "jupyter": {
          "source_hidden": false,
          "outputs_hidden": false
        },
        "nteract": {
          "transient": {
            "deleting": false
          }
        }
      }
    }
  ],
  "metadata": {
    "kernelspec": {
      "name": "python310-sdkv2",
      "language": "python",
      "display_name": "Python 3.10 - SDK v2"
    },
    "language_info": {
      "name": "python",
      "version": "3.10.11",
      "mimetype": "text/x-python",
      "codemirror_mode": {
        "name": "ipython",
        "version": 3
      },
      "pygments_lexer": "ipython3",
      "nbconvert_exporter": "python",
      "file_extension": ".py"
    },
    "microsoft": {
      "ms_spell_check": {
        "ms_spell_check_language": "en"
      },
      "host": {
        "AzureML": {
          "notebookHasBeenCompleted": true
        }
      }
    },
    "kernel_info": {
      "name": "python310-sdkv2"
    },
    "nteract": {
      "version": "nteract-front-end@1.0.0"
    }
  },
  "nbformat": 4,
  "nbformat_minor": 2
}