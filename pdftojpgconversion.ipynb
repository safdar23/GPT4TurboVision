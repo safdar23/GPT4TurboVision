{
  "cells": [
    {
      "cell_type": "code",
      "source": [
        "#!pip install pdf2image\n",
        "#sudo apt-get install poppler-utils\n"
      ],
      "outputs": [
        {
          "output_type": "stream",
          "name": "stdout",
          "text": "Requirement already satisfied: pdf2image in /anaconda/envs/azureml_py38/lib/python3.8/site-packages (1.17.0)\r\nRequirement already satisfied: pillow in /anaconda/envs/azureml_py38/lib/python3.8/site-packages (from pdf2image) (9.2.0)\r\n"
        }
      ],
      "execution_count": 1,
      "metadata": {
        "jupyter": {
          "source_hidden": false,
          "outputs_hidden": false
        },
        "nteract": {
          "transient": {
            "deleting": false
          }
        }
      }
    },
    {
      "cell_type": "code",
      "source": [
        "#https://stackoverflow.com/questions/53481088/poppler-in-path-for-pdf2image\n",
        "#https://www.geeksforgeeks.org/convert-pdf-to-image-using-python/\n",
        "#https://www.educative.io/answers/how-to-convert-a-pdf-to-an-image-using-python"
      ],
      "outputs": [],
      "execution_count": null,
      "metadata": {
        "jupyter": {
          "source_hidden": false,
          "outputs_hidden": false
        },
        "nteract": {
          "transient": {
            "deleting": false
          }
        }
      }
    },
    {
      "cell_type": "code",
      "source": [
        "\n",
        "\n",
        "from pdf2image import convert_from_path\n",
        " \n",
        "\n",
        "# Store Pdf with convert_from_path function\n",
        "images = convert_from_path('Strike1.pdf')\n",
        " \n",
        "for i in range(len(images)):\n",
        "   \n",
        "      # Save pages as images in the pdf\n",
        "    images[i].save('Strike1'+ str(i) +'.jpg', 'JPEG')"
      ],
      "outputs": [],
      "execution_count": 4,
      "metadata": {
        "gather": {
          "logged": 1706050941633
        }
      }
    },
    {
      "cell_type": "code",
      "source": [],
      "outputs": [],
      "execution_count": null,
      "metadata": {
        "jupyter": {
          "source_hidden": false,
          "outputs_hidden": false
        },
        "nteract": {
          "transient": {
            "deleting": false
          }
        }
      }
    }
  ],
  "metadata": {
    "kernelspec": {
      "name": "python38-azureml",
      "language": "python",
      "display_name": "Python 3.8 - AzureML"
    },
    "language_info": {
      "name": "python",
      "version": "3.8.5",
      "mimetype": "text/x-python",
      "codemirror_mode": {
        "name": "ipython",
        "version": 3
      },
      "pygments_lexer": "ipython3",
      "nbconvert_exporter": "python",
      "file_extension": ".py"
    },
    "microsoft": {
      "ms_spell_check": {
        "ms_spell_check_language": "en"
      }
    },
    "kernel_info": {
      "name": "python38-azureml"
    },
    "nteract": {
      "version": "nteract-front-end@1.0.0"
    }
  },
  "nbformat": 4,
  "nbformat_minor": 2
}